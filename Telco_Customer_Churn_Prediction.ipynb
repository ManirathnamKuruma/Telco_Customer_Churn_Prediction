{
 "cells": [
  {
   "cell_type": "code",
   "execution_count": 1,
   "metadata": {
    "id": "kQ8wuw-9dlf5"
   },
   "outputs": [],
   "source": [
    "import pandas as pd\n",
    "from matplotlib import pyplot as plt\n",
    "import numpy as np\n",
    "%matplotlib inline"
   ]
  },
  {
   "cell_type": "code",
   "execution_count": 2,
   "metadata": {
    "colab": {
     "base_uri": "https://localhost:8080/",
     "height": 299
    },
    "id": "k_3gEjjfeHnS",
    "outputId": "817072ec-6d41-4bf0-93b2-8f561e960bad"
   },
   "outputs": [
    {
     "data": {
      "text/html": [
       "<div>\n",
       "<style scoped>\n",
       "    .dataframe tbody tr th:only-of-type {\n",
       "        vertical-align: middle;\n",
       "    }\n",
       "\n",
       "    .dataframe tbody tr th {\n",
       "        vertical-align: top;\n",
       "    }\n",
       "\n",
       "    .dataframe thead th {\n",
       "        text-align: right;\n",
       "    }\n",
       "</style>\n",
       "<table border=\"1\" class=\"dataframe\">\n",
       "  <thead>\n",
       "    <tr style=\"text-align: right;\">\n",
       "      <th></th>\n",
       "      <th>customerID</th>\n",
       "      <th>gender</th>\n",
       "      <th>SeniorCitizen</th>\n",
       "      <th>Partner</th>\n",
       "      <th>Dependents</th>\n",
       "      <th>tenure</th>\n",
       "      <th>PhoneService</th>\n",
       "      <th>MultipleLines</th>\n",
       "      <th>InternetService</th>\n",
       "      <th>OnlineSecurity</th>\n",
       "      <th>OnlineBackup</th>\n",
       "      <th>DeviceProtection</th>\n",
       "      <th>TechSupport</th>\n",
       "      <th>StreamingTV</th>\n",
       "      <th>StreamingMovies</th>\n",
       "      <th>Contract</th>\n",
       "      <th>PaperlessBilling</th>\n",
       "      <th>PaymentMethod</th>\n",
       "      <th>MonthlyCharges</th>\n",
       "      <th>TotalCharges</th>\n",
       "      <th>Churn</th>\n",
       "    </tr>\n",
       "  </thead>\n",
       "  <tbody>\n",
       "    <tr>\n",
       "      <th>0</th>\n",
       "      <td>7590-VHVEG</td>\n",
       "      <td>Female</td>\n",
       "      <td>0</td>\n",
       "      <td>Yes</td>\n",
       "      <td>No</td>\n",
       "      <td>1</td>\n",
       "      <td>No</td>\n",
       "      <td>No phone service</td>\n",
       "      <td>DSL</td>\n",
       "      <td>No</td>\n",
       "      <td>Yes</td>\n",
       "      <td>No</td>\n",
       "      <td>No</td>\n",
       "      <td>No</td>\n",
       "      <td>No</td>\n",
       "      <td>Month-to-month</td>\n",
       "      <td>Yes</td>\n",
       "      <td>Electronic check</td>\n",
       "      <td>29.85</td>\n",
       "      <td>29.85</td>\n",
       "      <td>No</td>\n",
       "    </tr>\n",
       "    <tr>\n",
       "      <th>1</th>\n",
       "      <td>5575-GNVDE</td>\n",
       "      <td>Male</td>\n",
       "      <td>0</td>\n",
       "      <td>No</td>\n",
       "      <td>No</td>\n",
       "      <td>34</td>\n",
       "      <td>Yes</td>\n",
       "      <td>No</td>\n",
       "      <td>DSL</td>\n",
       "      <td>Yes</td>\n",
       "      <td>No</td>\n",
       "      <td>Yes</td>\n",
       "      <td>No</td>\n",
       "      <td>No</td>\n",
       "      <td>No</td>\n",
       "      <td>One year</td>\n",
       "      <td>No</td>\n",
       "      <td>Mailed check</td>\n",
       "      <td>56.95</td>\n",
       "      <td>1889.5</td>\n",
       "      <td>No</td>\n",
       "    </tr>\n",
       "    <tr>\n",
       "      <th>2</th>\n",
       "      <td>3668-QPYBK</td>\n",
       "      <td>Male</td>\n",
       "      <td>0</td>\n",
       "      <td>No</td>\n",
       "      <td>No</td>\n",
       "      <td>2</td>\n",
       "      <td>Yes</td>\n",
       "      <td>No</td>\n",
       "      <td>DSL</td>\n",
       "      <td>Yes</td>\n",
       "      <td>Yes</td>\n",
       "      <td>No</td>\n",
       "      <td>No</td>\n",
       "      <td>No</td>\n",
       "      <td>No</td>\n",
       "      <td>Month-to-month</td>\n",
       "      <td>Yes</td>\n",
       "      <td>Mailed check</td>\n",
       "      <td>53.85</td>\n",
       "      <td>108.15</td>\n",
       "      <td>Yes</td>\n",
       "    </tr>\n",
       "    <tr>\n",
       "      <th>3</th>\n",
       "      <td>7795-CFOCW</td>\n",
       "      <td>Male</td>\n",
       "      <td>0</td>\n",
       "      <td>No</td>\n",
       "      <td>No</td>\n",
       "      <td>45</td>\n",
       "      <td>No</td>\n",
       "      <td>No phone service</td>\n",
       "      <td>DSL</td>\n",
       "      <td>Yes</td>\n",
       "      <td>No</td>\n",
       "      <td>Yes</td>\n",
       "      <td>Yes</td>\n",
       "      <td>No</td>\n",
       "      <td>No</td>\n",
       "      <td>One year</td>\n",
       "      <td>No</td>\n",
       "      <td>Bank transfer (automatic)</td>\n",
       "      <td>42.30</td>\n",
       "      <td>1840.75</td>\n",
       "      <td>No</td>\n",
       "    </tr>\n",
       "    <tr>\n",
       "      <th>4</th>\n",
       "      <td>9237-HQITU</td>\n",
       "      <td>Female</td>\n",
       "      <td>0</td>\n",
       "      <td>No</td>\n",
       "      <td>No</td>\n",
       "      <td>2</td>\n",
       "      <td>Yes</td>\n",
       "      <td>No</td>\n",
       "      <td>Fiber optic</td>\n",
       "      <td>No</td>\n",
       "      <td>No</td>\n",
       "      <td>No</td>\n",
       "      <td>No</td>\n",
       "      <td>No</td>\n",
       "      <td>No</td>\n",
       "      <td>Month-to-month</td>\n",
       "      <td>Yes</td>\n",
       "      <td>Electronic check</td>\n",
       "      <td>70.70</td>\n",
       "      <td>151.65</td>\n",
       "      <td>Yes</td>\n",
       "    </tr>\n",
       "  </tbody>\n",
       "</table>\n",
       "</div>"
      ],
      "text/plain": [
       "   customerID  gender  SeniorCitizen  ... MonthlyCharges TotalCharges  Churn\n",
       "0  7590-VHVEG  Female              0  ...          29.85        29.85     No\n",
       "1  5575-GNVDE    Male              0  ...          56.95       1889.5     No\n",
       "2  3668-QPYBK    Male              0  ...          53.85       108.15    Yes\n",
       "3  7795-CFOCW    Male              0  ...          42.30      1840.75     No\n",
       "4  9237-HQITU  Female              0  ...          70.70       151.65    Yes\n",
       "\n",
       "[5 rows x 21 columns]"
      ]
     },
     "execution_count": 2,
     "metadata": {
      "tags": []
     },
     "output_type": "execute_result"
    }
   ],
   "source": [
    "# load data\n",
    "telco_df = pd.read_csv('/content/telco_churn_data.csv')\n",
    "telco_df.head()"
   ]
  },
  {
   "cell_type": "code",
   "execution_count": 3,
   "metadata": {
    "id": "ODu2kFdZelTa"
   },
   "outputs": [],
   "source": [
    "# since customerID is not useful. lets drop it\n",
    "telco_df.drop('customerID',axis=1,inplace=True)"
   ]
  },
  {
   "cell_type": "code",
   "execution_count": 4,
   "metadata": {
    "colab": {
     "base_uri": "https://localhost:8080/"
    },
    "id": "_Ci56WRGfMTK",
    "outputId": "0198b47a-738f-416a-93db-dfc4c92979b8"
   },
   "outputs": [
    {
     "data": {
      "text/plain": [
       "gender               object\n",
       "SeniorCitizen         int64\n",
       "Partner              object\n",
       "Dependents           object\n",
       "tenure                int64\n",
       "PhoneService         object\n",
       "MultipleLines        object\n",
       "InternetService      object\n",
       "OnlineSecurity       object\n",
       "OnlineBackup         object\n",
       "DeviceProtection     object\n",
       "TechSupport          object\n",
       "StreamingTV          object\n",
       "StreamingMovies      object\n",
       "Contract             object\n",
       "PaperlessBilling     object\n",
       "PaymentMethod        object\n",
       "MonthlyCharges      float64\n",
       "TotalCharges         object\n",
       "Churn                object\n",
       "dtype: object"
      ]
     },
     "execution_count": 4,
     "metadata": {
      "tags": []
     },
     "output_type": "execute_result"
    }
   ],
   "source": [
    "# lets check the dtypes\n",
    "telco_df.dtypes"
   ]
  },
  {
   "cell_type": "code",
   "execution_count": 5,
   "metadata": {
    "colab": {
     "base_uri": "https://localhost:8080/"
    },
    "id": "CiQwZrv3fict",
    "outputId": "c9d3da50-3ac8-4347-a373-80cedd7b561f"
   },
   "outputs": [
    {
     "data": {
      "text/plain": [
       "array(['29.85', '1889.5', '108.15', ..., '346.45', '306.6', '6844.5'],\n",
       "      dtype=object)"
      ]
     },
     "execution_count": 5,
     "metadata": {
      "tags": []
     },
     "output_type": "execute_result"
    }
   ],
   "source": [
    "# as we can see MonthlyCharges is in dtype but actually contains numeric values\n",
    "telco_df.TotalCharges.values"
   ]
  },
  {
   "cell_type": "code",
   "execution_count": 6,
   "metadata": {
    "id": "E6oE25hwirrd"
   },
   "outputs": [],
   "source": [
    "# lets convert it into numeric\n",
    "#pd.to_numeric(telco_df.TotalCharges)"
   ]
  },
  {
   "cell_type": "code",
   "execution_count": 7,
   "metadata": {
    "colab": {
     "base_uri": "https://localhost:8080/"
    },
    "id": "kwC_JoBzjge4",
    "outputId": "c43599af-2313-40d0-affc-dbd8dadddd91"
   },
   "outputs": [
    {
     "data": {
      "text/plain": [
       "0         29.85\n",
       "1       1889.50\n",
       "2        108.15\n",
       "3       1840.75\n",
       "4        151.65\n",
       "         ...   \n",
       "7038    1990.50\n",
       "7039    7362.90\n",
       "7040     346.45\n",
       "7041     306.60\n",
       "7042    6844.50\n",
       "Name: TotalCharges, Length: 7043, dtype: float64"
      ]
     },
     "execution_count": 7,
     "metadata": {
      "tags": []
     },
     "output_type": "execute_result"
    }
   ],
   "source": [
    "# as we can see there is some spaces(nulls) in these column. so, we need to remove them first.\n",
    "pd.to_numeric(telco_df.TotalCharges,errors='coerce')"
   ]
  },
  {
   "cell_type": "code",
   "execution_count": 8,
   "metadata": {
    "colab": {
     "base_uri": "https://localhost:8080/"
    },
    "id": "xizZ19CxkM7F",
    "outputId": "ef47f3b8-6407-4ea9-9bde-f7b039c7e132"
   },
   "outputs": [
    {
     "data": {
      "text/plain": [
       "0"
      ]
     },
     "execution_count": 8,
     "metadata": {
      "tags": []
     },
     "output_type": "execute_result"
    }
   ],
   "source": [
    "telco_df.TotalCharges.isnull().sum()"
   ]
  },
  {
   "cell_type": "code",
   "execution_count": 9,
   "metadata": {
    "colab": {
     "base_uri": "https://localhost:8080/"
    },
    "id": "jBATvedGkXrI",
    "outputId": "f7b2593e-1842-48bb-cf79-61a7a8769b06"
   },
   "outputs": [
    {
     "data": {
      "text/plain": [
       "gender               object\n",
       "SeniorCitizen         int64\n",
       "Partner              object\n",
       "Dependents           object\n",
       "tenure                int64\n",
       "PhoneService         object\n",
       "MultipleLines        object\n",
       "InternetService      object\n",
       "OnlineSecurity       object\n",
       "OnlineBackup         object\n",
       "DeviceProtection     object\n",
       "TechSupport          object\n",
       "StreamingTV          object\n",
       "StreamingMovies      object\n",
       "Contract             object\n",
       "PaperlessBilling     object\n",
       "PaymentMethod        object\n",
       "MonthlyCharges      float64\n",
       "TotalCharges         object\n",
       "Churn                object\n",
       "dtype: object"
      ]
     },
     "execution_count": 9,
     "metadata": {
      "tags": []
     },
     "output_type": "execute_result"
    }
   ],
   "source": [
    "telco_df.dtypes"
   ]
  },
  {
   "cell_type": "code",
   "execution_count": 10,
   "metadata": {
    "id": "3WsXJk23l1J6"
   },
   "outputs": [],
   "source": [
    "# lets change it to numeric \n",
    "#telco_df.TotalCharges=pd.to_numeric(telco_df.TotalCharges)"
   ]
  },
  {
   "cell_type": "code",
   "execution_count": 11,
   "metadata": {
    "colab": {
     "base_uri": "https://localhost:8080/",
     "height": 35
    },
    "id": "dVXmIfTlmlAK",
    "outputId": "9dd1b4b4-69e3-4cd4-9abe-19e84c9d26e0"
   },
   "outputs": [
    {
     "data": {
      "application/vnd.google.colaboratory.intrinsic+json": {
       "type": "string"
      },
      "text/plain": [
       "' '"
      ]
     },
     "execution_count": 11,
     "metadata": {
      "tags": []
     },
     "output_type": "execute_result"
    }
   ],
   "source": [
    "# as we can see row 488 contains space\n",
    "telco_df.iloc[488].TotalCharges"
   ]
  },
  {
   "cell_type": "code",
   "execution_count": 12,
   "metadata": {
    "colab": {
     "base_uri": "https://localhost:8080/"
    },
    "id": "0vDwm5h4m5FJ",
    "outputId": "a2dd003c-8e1d-45ee-bde0-6a212223a502"
   },
   "outputs": [
    {
     "data": {
      "text/plain": [
       "(7043, 20)"
      ]
     },
     "execution_count": 12,
     "metadata": {
      "tags": []
     },
     "output_type": "execute_result"
    }
   ],
   "source": [
    "# lets remove rows which contains spaces in TotalCharges\n",
    "# lets first check the shape of our df\n",
    "telco_df.shape"
   ]
  },
  {
   "cell_type": "code",
   "execution_count": 13,
   "metadata": {
    "colab": {
     "base_uri": "https://localhost:8080/"
    },
    "id": "N6Vw1y2xnfA4",
    "outputId": "1bcf3552-e0a4-4914-b94c-2aa975704bc3"
   },
   "outputs": [
    {
     "data": {
      "text/plain": [
       "(7032, 20)"
      ]
     },
     "execution_count": 13,
     "metadata": {
      "tags": []
     },
     "output_type": "execute_result"
    }
   ],
   "source": [
    "# lets remove rows where TotalCharges are spaces\n",
    "telco_df=telco_df[telco_df.TotalCharges!=' ']\n",
    "telco_df.shape"
   ]
  },
  {
   "cell_type": "code",
   "execution_count": 14,
   "metadata": {
    "colab": {
     "base_uri": "https://localhost:8080/"
    },
    "id": "GzrYAJ20oPPc",
    "outputId": "5fbfdf74-9703-4faa-9d6d-d55bfebbd800"
   },
   "outputs": [
    {
     "data": {
      "text/plain": [
       "dtype('float64')"
      ]
     },
     "execution_count": 14,
     "metadata": {
      "tags": []
     },
     "output_type": "execute_result"
    }
   ],
   "source": [
    "# now we can convert TotalCharges column to numeric\n",
    "telco_df.TotalCharges=pd.to_numeric(telco_df.TotalCharges)\n",
    "telco_df.TotalCharges.dtypes"
   ]
  },
  {
   "cell_type": "code",
   "execution_count": 15,
   "metadata": {
    "colab": {
     "base_uri": "https://localhost:8080/",
     "height": 366
    },
    "id": "gqQTmArfpjk2",
    "outputId": "d86ee15a-8961-42bd-d199-1b8d68d8663f"
   },
   "outputs": [
    {
     "name": "stderr",
     "output_type": "stream",
     "text": [
      "/usr/local/lib/python3.7/dist-packages/numpy/core/_asarray.py:83: VisibleDeprecationWarning: Creating an ndarray from ragged nested sequences (which is a list-or-tuple of lists-or-tuples-or ndarrays with different lengths or shapes) is deprecated. If you meant to do this, you must specify 'dtype=object' when creating the ndarray\n",
      "  return array(a, dtype, copy=False, order=order)\n"
     ]
    },
    {
     "data": {
      "text/plain": [
       "<matplotlib.legend.Legend at 0x7fbe5194a6d0>"
      ]
     },
     "execution_count": 15,
     "metadata": {
      "tags": []
     },
     "output_type": "execute_result"
    },
    {
     "data": {
      "image/png": "[encoded data removed]",
      "text/plain": [
       "<Figure size 432x288 with 1 Axes>"
      ]
     },
     "metadata": {
      "needs_background": "light",
      "tags": []
     },
     "output_type": "display_data"
    }
   ],
   "source": [
    "# lets see the chances of churn w.r.t tenure by plotting\n",
    "# u can also plot other features w.r.t churn(target)\n",
    "tenure_churn_yes=telco_df[telco_df.Churn=='Yes'].tenure\n",
    "tenure_churn_no=telco_df[telco_df.Churn=='No'].tenure\n",
    "plt.xlabel('tenure')\n",
    "plt.ylabel('no. of customers')\n",
    "plt.title('Churn Analysis w.r.t tenure')\n",
    "plt.hist([tenure_churn_no,tenure_churn_yes],rwidth=0.95,color=['red','green'],label=['Churn=No','Churn=Yes'])\n",
    "plt.legend()"
   ]
  },
  {
   "cell_type": "code",
   "execution_count": 16,
   "metadata": {
    "colab": {
     "base_uri": "https://localhost:8080/",
     "height": 366
    },
    "id": "lQIsx6YW11nl",
    "outputId": "ade227c5-93aa-49ed-9ca2-5d710ebec8a8"
   },
   "outputs": [
    {
     "name": "stderr",
     "output_type": "stream",
     "text": [
      "/usr/local/lib/python3.7/dist-packages/numpy/core/_asarray.py:83: VisibleDeprecationWarning: Creating an ndarray from ragged nested sequences (which is a list-or-tuple of lists-or-tuples-or ndarrays with different lengths or shapes) is deprecated. If you meant to do this, you must specify 'dtype=object' when creating the ndarray\n",
      "  return array(a, dtype, copy=False, order=order)\n"
     ]
    },
    {
     "data": {
      "text/plain": [
       "<matplotlib.legend.Legend at 0x7fbe513c6e90>"
      ]
     },
     "execution_count": 16,
     "metadata": {
      "tags": []
     },
     "output_type": "execute_result"
    },
    {
     "data": {
      "image/png": "[encoded data removed]",
      "text/plain": [
       "<Figure size 432x288 with 1 Axes>"
      ]
     },
     "metadata": {
      "needs_background": "light",
      "tags": []
     },
     "output_type": "display_data"
    }
   ],
   "source": [
    "mc_churn_yes=telco_df[telco_df.Churn=='Yes'].MonthlyCharges\n",
    "mc_churn_no=telco_df[telco_df.Churn=='No'].MonthlyCharges\n",
    "plt.xlabel('monthly charges')\n",
    "plt.ylabel('no. of customers')\n",
    "plt.title('Churn Analysis w.r.t monthly charges')\n",
    "plt.hist([mc_churn_no,mc_churn_yes],rwidth=0.95,color=['red','green'],label=['Churn=No','Churn=Yes'])\n",
    "plt.legend()"
   ]
  },
  {
   "cell_type": "code",
   "execution_count": 17,
   "metadata": {
    "id": "YzZTUE5221fH"
   },
   "outputs": [],
   "source": [
    "# lets define a function to cheque unique values in every column\n",
    "# so that this function can be used multiple times for any df\n",
    "def all_col_unique(df):\n",
    "  for col in telco_df:\n",
    "    print(f'{col} : {telco_df[col].unique()}')"
   ]
  },
  {
   "cell_type": "code",
   "execution_count": 18,
   "metadata": {
    "colab": {
     "base_uri": "https://localhost:8080/"
    },
    "id": "8CxyO-NF46eT",
    "outputId": "ebab8a86-a469-4e91-b1f4-4deb5d1ee2b2"
   },
   "outputs": [
    {
     "name": "stdout",
     "output_type": "stream",
     "text": [
      "gender : ['Female' 'Male']\n",
      "SeniorCitizen : [0 1]\n",
      "Partner : ['Yes' 'No']\n",
      "Dependents : ['No' 'Yes']\n",
      "tenure : [ 1 34  2 45  8 22 10 28 62 13 16 58 49 25 69 52 71 21 12 30 47 72 17 27\n",
      "  5 46 11 70 63 43 15 60 18 66  9  3 31 50 64 56  7 42 35 48 29 65 38 68\n",
      " 32 55 37 36 41  6  4 33 67 23 57 61 14 20 53 40 59 24 44 19 54 51 26 39]\n",
      "PhoneService : ['No' 'Yes']\n",
      "MultipleLines : ['No phone service' 'No' 'Yes']\n",
      "InternetService : ['DSL' 'Fiber optic' 'No']\n",
      "OnlineSecurity : ['No' 'Yes' 'No internet service']\n",
      "OnlineBackup : ['Yes' 'No' 'No internet service']\n",
      "DeviceProtection : ['No' 'Yes' 'No internet service']\n",
      "TechSupport : ['No' 'Yes' 'No internet service']\n",
      "StreamingTV : ['No' 'Yes' 'No internet service']\n",
      "StreamingMovies : ['No' 'Yes' 'No internet service']\n",
      "Contract : ['Month-to-month' 'One year' 'Two year']\n",
      "PaperlessBilling : ['Yes' 'No']\n",
      "PaymentMethod : ['Electronic check' 'Mailed check' 'Bank transfer (automatic)'\n",
      " 'Credit card (automatic)']\n",
      "MonthlyCharges : [29.85 56.95 53.85 ... 63.1  44.2  78.7 ]\n",
      "TotalCharges : [  29.85 1889.5   108.15 ...  346.45  306.6  6844.5 ]\n",
      "Churn : ['No' 'Yes']\n"
     ]
    }
   ],
   "source": [
    "all_col_unique(telco_df)"
   ]
  },
  {
   "cell_type": "code",
   "execution_count": 19,
   "metadata": {
    "id": "rZ6YU-ea4LP9"
   },
   "outputs": [],
   "source": [
    "# since, we need to encode object dtypes\n",
    "# lets create a function to cheque unique values of only object dtype columns\n",
    "def object_col_unique(df):\n",
    "  for col in df:\n",
    "    if df[col].dtypes=='object':\n",
    "      print(f'{col} : {df[col].unique()}')"
   ]
  },
  {
   "cell_type": "code",
   "execution_count": 20,
   "metadata": {
    "colab": {
     "base_uri": "https://localhost:8080/"
    },
    "id": "BxXefqN_6Ajs",
    "outputId": "bd6d28aa-6a55-48a4-ecbe-0e0bf6716a6a"
   },
   "outputs": [
    {
     "name": "stdout",
     "output_type": "stream",
     "text": [
      "gender : ['Female' 'Male']\n",
      "Partner : ['Yes' 'No']\n",
      "Dependents : ['No' 'Yes']\n",
      "PhoneService : ['No' 'Yes']\n",
      "MultipleLines : ['No phone service' 'No' 'Yes']\n",
      "InternetService : ['DSL' 'Fiber optic' 'No']\n",
      "OnlineSecurity : ['No' 'Yes' 'No internet service']\n",
      "OnlineBackup : ['Yes' 'No' 'No internet service']\n",
      "DeviceProtection : ['No' 'Yes' 'No internet service']\n",
      "TechSupport : ['No' 'Yes' 'No internet service']\n",
      "StreamingTV : ['No' 'Yes' 'No internet service']\n",
      "StreamingMovies : ['No' 'Yes' 'No internet service']\n",
      "Contract : ['Month-to-month' 'One year' 'Two year']\n",
      "PaperlessBilling : ['Yes' 'No']\n",
      "PaymentMethod : ['Electronic check' 'Mailed check' 'Bank transfer (automatic)'\n",
      " 'Credit card (automatic)']\n",
      "Churn : ['No' 'Yes']\n"
     ]
    }
   ],
   "source": [
    "object_col_unique(telco_df)"
   ]
  },
  {
   "cell_type": "code",
   "execution_count": 21,
   "metadata": {
    "id": "64zi-iPO6Gm7"
   },
   "outputs": [],
   "source": [
    "# Some of the columns have no internet service or no phone service, that can be replaced with a simple No\n",
    "telco_df.replace('No internet service','No',inplace=True)\n",
    "telco_df.replace('No phone service','No',inplace=True)"
   ]
  },
  {
   "cell_type": "code",
   "execution_count": 22,
   "metadata": {
    "colab": {
     "base_uri": "https://localhost:8080/"
    },
    "id": "R0h7-CG16fsK",
    "outputId": "d5052d2f-ae60-4073-f5f5-d19ef408f944"
   },
   "outputs": [
    {
     "name": "stdout",
     "output_type": "stream",
     "text": [
      "gender : ['Female' 'Male']\n",
      "Partner : ['Yes' 'No']\n",
      "Dependents : ['No' 'Yes']\n",
      "PhoneService : ['No' 'Yes']\n",
      "MultipleLines : ['No' 'Yes']\n",
      "InternetService : ['DSL' 'Fiber optic' 'No']\n",
      "OnlineSecurity : ['No' 'Yes']\n",
      "OnlineBackup : ['Yes' 'No']\n",
      "DeviceProtection : ['No' 'Yes']\n",
      "TechSupport : ['No' 'Yes']\n",
      "StreamingTV : ['No' 'Yes']\n",
      "StreamingMovies : ['No' 'Yes']\n",
      "Contract : ['Month-to-month' 'One year' 'Two year']\n",
      "PaperlessBilling : ['Yes' 'No']\n",
      "PaymentMethod : ['Electronic check' 'Mailed check' 'Bank transfer (automatic)'\n",
      " 'Credit card (automatic)']\n",
      "Churn : ['No' 'Yes']\n"
     ]
    }
   ],
   "source": [
    "object_col_unique(telco_df)"
   ]
  },
  {
   "cell_type": "code",
   "execution_count": 23,
   "metadata": {
    "colab": {
     "base_uri": "https://localhost:8080/"
    },
    "id": "gOnnSOgS6rBT",
    "outputId": "9b9b33b1-5bd6-4350-8cec-853e85ea86ec"
   },
   "outputs": [
    {
     "data": {
      "text/plain": [
       "Index(['gender', 'SeniorCitizen', 'Partner', 'Dependents', 'tenure',\n",
       "       'PhoneService', 'MultipleLines', 'InternetService', 'OnlineSecurity',\n",
       "       'OnlineBackup', 'DeviceProtection', 'TechSupport', 'StreamingTV',\n",
       "       'StreamingMovies', 'Contract', 'PaperlessBilling', 'PaymentMethod',\n",
       "       'MonthlyCharges', 'TotalCharges', 'Churn'],\n",
       "      dtype='object')"
      ]
     },
     "execution_count": 23,
     "metadata": {
      "tags": []
     },
     "output_type": "execute_result"
    }
   ],
   "source": [
    "# lets replace yes , no with 1's and 0's\n",
    "# so lets extract a list of columns with yes or no to replace them\n",
    "# lets first see the columns list\n",
    "telco_df.columns"
   ]
  },
  {
   "cell_type": "code",
   "execution_count": 24,
   "metadata": {
    "id": "_0ynF1-m7niv"
   },
   "outputs": [],
   "source": [
    "# yes_no_columns list\n",
    "yes_no_cols=['SeniorCitizen', 'Partner', 'Dependents', 'tenure',\n",
    "       'PhoneService', 'MultipleLines', 'OnlineSecurity',\n",
    "       'OnlineBackup', 'DeviceProtection', 'TechSupport', 'StreamingTV',\n",
    "       'StreamingMovies', 'PaperlessBilling',\n",
    "       'MonthlyCharges', 'TotalCharges', 'Churn']\n",
    "for col in yes_no_cols:\n",
    "  telco_df[col].replace('Yes',1,inplace=True)\n",
    "  telco_df[col].replace('No',0,inplace=True)"
   ]
  },
  {
   "cell_type": "code",
   "execution_count": 25,
   "metadata": {
    "colab": {
     "base_uri": "https://localhost:8080/"
    },
    "id": "UxiMhkU_9l7P",
    "outputId": "0e3b5bb5-be4a-49a4-e41d-29f6320a4a1c"
   },
   "outputs": [
    {
     "name": "stdout",
     "output_type": "stream",
     "text": [
      "gender : ['Female' 'Male']\n",
      "SeniorCitizen : [0 1]\n",
      "Partner : [1 0]\n",
      "Dependents : [0 1]\n",
      "tenure : [ 1 34  2 45  8 22 10 28 62 13 16 58 49 25 69 52 71 21 12 30 47 72 17 27\n",
      "  5 46 11 70 63 43 15 60 18 66  9  3 31 50 64 56  7 42 35 48 29 65 38 68\n",
      " 32 55 37 36 41  6  4 33 67 23 57 61 14 20 53 40 59 24 44 19 54 51 26 39]\n",
      "PhoneService : [0 1]\n",
      "MultipleLines : [0 1]\n",
      "InternetService : ['DSL' 'Fiber optic' 'No']\n",
      "OnlineSecurity : [0 1]\n",
      "OnlineBackup : [1 0]\n",
      "DeviceProtection : [0 1]\n",
      "TechSupport : [0 1]\n",
      "StreamingTV : [0 1]\n",
      "StreamingMovies : [0 1]\n",
      "Contract : ['Month-to-month' 'One year' 'Two year']\n",
      "PaperlessBilling : [1 0]\n",
      "PaymentMethod : ['Electronic check' 'Mailed check' 'Bank transfer (automatic)'\n",
      " 'Credit card (automatic)']\n",
      "MonthlyCharges : [29.85 56.95 53.85 ... 63.1  44.2  78.7 ]\n",
      "TotalCharges : [  29.85 1889.5   108.15 ...  346.45  306.6  6844.5 ]\n",
      "Churn : [0 1]\n"
     ]
    }
   ],
   "source": [
    "all_col_unique(telco_df)"
   ]
  },
  {
   "cell_type": "code",
   "execution_count": 26,
   "metadata": {
    "colab": {
     "base_uri": "https://localhost:8080/",
     "height": 282
    },
    "id": "9IR6Mm6L4xEw",
    "outputId": "cc9d4a53-4b2c-49ff-fecf-51c1bbdb3ebf"
   },
   "outputs": [
    {
     "data": {
      "text/html": [
       "<div>\n",
       "<style scoped>\n",
       "    .dataframe tbody tr th:only-of-type {\n",
       "        vertical-align: middle;\n",
       "    }\n",
       "\n",
       "    .dataframe tbody tr th {\n",
       "        vertical-align: top;\n",
       "    }\n",
       "\n",
       "    .dataframe thead th {\n",
       "        text-align: right;\n",
       "    }\n",
       "</style>\n",
       "<table border=\"1\" class=\"dataframe\">\n",
       "  <thead>\n",
       "    <tr style=\"text-align: right;\">\n",
       "      <th></th>\n",
       "      <th>gender</th>\n",
       "      <th>SeniorCitizen</th>\n",
       "      <th>Partner</th>\n",
       "      <th>Dependents</th>\n",
       "      <th>tenure</th>\n",
       "      <th>PhoneService</th>\n",
       "      <th>MultipleLines</th>\n",
       "      <th>InternetService</th>\n",
       "      <th>OnlineSecurity</th>\n",
       "      <th>OnlineBackup</th>\n",
       "      <th>DeviceProtection</th>\n",
       "      <th>TechSupport</th>\n",
       "      <th>StreamingTV</th>\n",
       "      <th>StreamingMovies</th>\n",
       "      <th>Contract</th>\n",
       "      <th>PaperlessBilling</th>\n",
       "      <th>PaymentMethod</th>\n",
       "      <th>MonthlyCharges</th>\n",
       "      <th>TotalCharges</th>\n",
       "      <th>Churn</th>\n",
       "    </tr>\n",
       "  </thead>\n",
       "  <tbody>\n",
       "    <tr>\n",
       "      <th>0</th>\n",
       "      <td>Female</td>\n",
       "      <td>0</td>\n",
       "      <td>1</td>\n",
       "      <td>0</td>\n",
       "      <td>1</td>\n",
       "      <td>0</td>\n",
       "      <td>0</td>\n",
       "      <td>DSL</td>\n",
       "      <td>0</td>\n",
       "      <td>1</td>\n",
       "      <td>0</td>\n",
       "      <td>0</td>\n",
       "      <td>0</td>\n",
       "      <td>0</td>\n",
       "      <td>Month-to-month</td>\n",
       "      <td>1</td>\n",
       "      <td>Electronic check</td>\n",
       "      <td>29.85</td>\n",
       "      <td>29.85</td>\n",
       "      <td>0</td>\n",
       "    </tr>\n",
       "    <tr>\n",
       "      <th>1</th>\n",
       "      <td>Male</td>\n",
       "      <td>0</td>\n",
       "      <td>0</td>\n",
       "      <td>0</td>\n",
       "      <td>34</td>\n",
       "      <td>1</td>\n",
       "      <td>0</td>\n",
       "      <td>DSL</td>\n",
       "      <td>1</td>\n",
       "      <td>0</td>\n",
       "      <td>1</td>\n",
       "      <td>0</td>\n",
       "      <td>0</td>\n",
       "      <td>0</td>\n",
       "      <td>One year</td>\n",
       "      <td>0</td>\n",
       "      <td>Mailed check</td>\n",
       "      <td>56.95</td>\n",
       "      <td>1889.50</td>\n",
       "      <td>0</td>\n",
       "    </tr>\n",
       "    <tr>\n",
       "      <th>2</th>\n",
       "      <td>Male</td>\n",
       "      <td>0</td>\n",
       "      <td>0</td>\n",
       "      <td>0</td>\n",
       "      <td>2</td>\n",
       "      <td>1</td>\n",
       "      <td>0</td>\n",
       "      <td>DSL</td>\n",
       "      <td>1</td>\n",
       "      <td>1</td>\n",
       "      <td>0</td>\n",
       "      <td>0</td>\n",
       "      <td>0</td>\n",
       "      <td>0</td>\n",
       "      <td>Month-to-month</td>\n",
       "      <td>1</td>\n",
       "      <td>Mailed check</td>\n",
       "      <td>53.85</td>\n",
       "      <td>108.15</td>\n",
       "      <td>1</td>\n",
       "    </tr>\n",
       "    <tr>\n",
       "      <th>3</th>\n",
       "      <td>Male</td>\n",
       "      <td>0</td>\n",
       "      <td>0</td>\n",
       "      <td>0</td>\n",
       "      <td>45</td>\n",
       "      <td>0</td>\n",
       "      <td>0</td>\n",
       "      <td>DSL</td>\n",
       "      <td>1</td>\n",
       "      <td>0</td>\n",
       "      <td>1</td>\n",
       "      <td>1</td>\n",
       "      <td>0</td>\n",
       "      <td>0</td>\n",
       "      <td>One year</td>\n",
       "      <td>0</td>\n",
       "      <td>Bank transfer (automatic)</td>\n",
       "      <td>42.30</td>\n",
       "      <td>1840.75</td>\n",
       "      <td>0</td>\n",
       "    </tr>\n",
       "    <tr>\n",
       "      <th>4</th>\n",
       "      <td>Female</td>\n",
       "      <td>0</td>\n",
       "      <td>0</td>\n",
       "      <td>0</td>\n",
       "      <td>2</td>\n",
       "      <td>1</td>\n",
       "      <td>0</td>\n",
       "      <td>Fiber optic</td>\n",
       "      <td>0</td>\n",
       "      <td>0</td>\n",
       "      <td>0</td>\n",
       "      <td>0</td>\n",
       "      <td>0</td>\n",
       "      <td>0</td>\n",
       "      <td>Month-to-month</td>\n",
       "      <td>1</td>\n",
       "      <td>Electronic check</td>\n",
       "      <td>70.70</td>\n",
       "      <td>151.65</td>\n",
       "      <td>1</td>\n",
       "    </tr>\n",
       "  </tbody>\n",
       "</table>\n",
       "</div>"
      ],
      "text/plain": [
       "   gender  SeniorCitizen  Partner  ...  MonthlyCharges  TotalCharges  Churn\n",
       "0  Female              0        1  ...           29.85         29.85      0\n",
       "1    Male              0        0  ...           56.95       1889.50      0\n",
       "2    Male              0        0  ...           53.85        108.15      1\n",
       "3    Male              0        0  ...           42.30       1840.75      0\n",
       "4  Female              0        0  ...           70.70        151.65      1\n",
       "\n",
       "[5 rows x 20 columns]"
      ]
     },
     "execution_count": 26,
     "metadata": {
      "tags": []
     },
     "output_type": "execute_result"
    }
   ],
   "source": [
    "telco_df.head(5)"
   ]
  },
  {
   "cell_type": "code",
   "execution_count": 27,
   "metadata": {
    "id": "nxqPyoZuDBP3"
   },
   "outputs": [],
   "source": [
    "# lets encode gender column to 1 and 0\n",
    "telco_df['gender'].replace({'Female':1,'Male':0},inplace=True)"
   ]
  },
  {
   "cell_type": "code",
   "execution_count": 28,
   "metadata": {
    "colab": {
     "base_uri": "https://localhost:8080/"
    },
    "id": "nHYtzU2-Dm2e",
    "outputId": "28954e98-4524-42be-e71a-1502ea32fbd3"
   },
   "outputs": [
    {
     "data": {
      "text/plain": [
       "array([1, 0, 0, ..., 1, 0, 0])"
      ]
     },
     "execution_count": 28,
     "metadata": {
      "tags": []
     },
     "output_type": "execute_result"
    }
   ],
   "source": [
    "telco_df.gender.values"
   ]
  },
  {
   "cell_type": "code",
   "execution_count": 29,
   "metadata": {
    "colab": {
     "base_uri": "https://localhost:8080/",
     "height": 249
    },
    "id": "tUfL6eLIDvux",
    "outputId": "ecaf71e1-71f6-4369-ec29-e99b806fedc4"
   },
   "outputs": [
    {
     "data": {
      "text/html": [
       "<div>\n",
       "<style scoped>\n",
       "    .dataframe tbody tr th:only-of-type {\n",
       "        vertical-align: middle;\n",
       "    }\n",
       "\n",
       "    .dataframe tbody tr th {\n",
       "        vertical-align: top;\n",
       "    }\n",
       "\n",
       "    .dataframe thead th {\n",
       "        text-align: right;\n",
       "    }\n",
       "</style>\n",
       "<table border=\"1\" class=\"dataframe\">\n",
       "  <thead>\n",
       "    <tr style=\"text-align: right;\">\n",
       "      <th></th>\n",
       "      <th>gender</th>\n",
       "      <th>SeniorCitizen</th>\n",
       "      <th>Partner</th>\n",
       "      <th>Dependents</th>\n",
       "      <th>tenure</th>\n",
       "      <th>PhoneService</th>\n",
       "      <th>MultipleLines</th>\n",
       "      <th>OnlineSecurity</th>\n",
       "      <th>OnlineBackup</th>\n",
       "      <th>DeviceProtection</th>\n",
       "      <th>TechSupport</th>\n",
       "      <th>StreamingTV</th>\n",
       "      <th>StreamingMovies</th>\n",
       "      <th>PaperlessBilling</th>\n",
       "      <th>MonthlyCharges</th>\n",
       "      <th>TotalCharges</th>\n",
       "      <th>Churn</th>\n",
       "      <th>InternetService_DSL</th>\n",
       "      <th>InternetService_Fiber optic</th>\n",
       "      <th>InternetService_No</th>\n",
       "      <th>Contract_Month-to-month</th>\n",
       "      <th>Contract_One year</th>\n",
       "      <th>Contract_Two year</th>\n",
       "      <th>PaymentMethod_Bank transfer (automatic)</th>\n",
       "      <th>PaymentMethod_Credit card (automatic)</th>\n",
       "      <th>PaymentMethod_Electronic check</th>\n",
       "      <th>PaymentMethod_Mailed check</th>\n",
       "    </tr>\n",
       "  </thead>\n",
       "  <tbody>\n",
       "    <tr>\n",
       "      <th>0</th>\n",
       "      <td>1</td>\n",
       "      <td>0</td>\n",
       "      <td>1</td>\n",
       "      <td>0</td>\n",
       "      <td>1</td>\n",
       "      <td>0</td>\n",
       "      <td>0</td>\n",
       "      <td>0</td>\n",
       "      <td>1</td>\n",
       "      <td>0</td>\n",
       "      <td>0</td>\n",
       "      <td>0</td>\n",
       "      <td>0</td>\n",
       "      <td>1</td>\n",
       "      <td>29.85</td>\n",
       "      <td>29.85</td>\n",
       "      <td>0</td>\n",
       "      <td>1</td>\n",
       "      <td>0</td>\n",
       "      <td>0</td>\n",
       "      <td>1</td>\n",
       "      <td>0</td>\n",
       "      <td>0</td>\n",
       "      <td>0</td>\n",
       "      <td>0</td>\n",
       "      <td>1</td>\n",
       "      <td>0</td>\n",
       "    </tr>\n",
       "    <tr>\n",
       "      <th>1</th>\n",
       "      <td>0</td>\n",
       "      <td>0</td>\n",
       "      <td>0</td>\n",
       "      <td>0</td>\n",
       "      <td>34</td>\n",
       "      <td>1</td>\n",
       "      <td>0</td>\n",
       "      <td>1</td>\n",
       "      <td>0</td>\n",
       "      <td>1</td>\n",
       "      <td>0</td>\n",
       "      <td>0</td>\n",
       "      <td>0</td>\n",
       "      <td>0</td>\n",
       "      <td>56.95</td>\n",
       "      <td>1889.50</td>\n",
       "      <td>0</td>\n",
       "      <td>1</td>\n",
       "      <td>0</td>\n",
       "      <td>0</td>\n",
       "      <td>0</td>\n",
       "      <td>1</td>\n",
       "      <td>0</td>\n",
       "      <td>0</td>\n",
       "      <td>0</td>\n",
       "      <td>0</td>\n",
       "      <td>1</td>\n",
       "    </tr>\n",
       "    <tr>\n",
       "      <th>2</th>\n",
       "      <td>0</td>\n",
       "      <td>0</td>\n",
       "      <td>0</td>\n",
       "      <td>0</td>\n",
       "      <td>2</td>\n",
       "      <td>1</td>\n",
       "      <td>0</td>\n",
       "      <td>1</td>\n",
       "      <td>1</td>\n",
       "      <td>0</td>\n",
       "      <td>0</td>\n",
       "      <td>0</td>\n",
       "      <td>0</td>\n",
       "      <td>1</td>\n",
       "      <td>53.85</td>\n",
       "      <td>108.15</td>\n",
       "      <td>1</td>\n",
       "      <td>1</td>\n",
       "      <td>0</td>\n",
       "      <td>0</td>\n",
       "      <td>1</td>\n",
       "      <td>0</td>\n",
       "      <td>0</td>\n",
       "      <td>0</td>\n",
       "      <td>0</td>\n",
       "      <td>0</td>\n",
       "      <td>1</td>\n",
       "    </tr>\n",
       "    <tr>\n",
       "      <th>3</th>\n",
       "      <td>0</td>\n",
       "      <td>0</td>\n",
       "      <td>0</td>\n",
       "      <td>0</td>\n",
       "      <td>45</td>\n",
       "      <td>0</td>\n",
       "      <td>0</td>\n",
       "      <td>1</td>\n",
       "      <td>0</td>\n",
       "      <td>1</td>\n",
       "      <td>1</td>\n",
       "      <td>0</td>\n",
       "      <td>0</td>\n",
       "      <td>0</td>\n",
       "      <td>42.30</td>\n",
       "      <td>1840.75</td>\n",
       "      <td>0</td>\n",
       "      <td>1</td>\n",
       "      <td>0</td>\n",
       "      <td>0</td>\n",
       "      <td>0</td>\n",
       "      <td>1</td>\n",
       "      <td>0</td>\n",
       "      <td>1</td>\n",
       "      <td>0</td>\n",
       "      <td>0</td>\n",
       "      <td>0</td>\n",
       "    </tr>\n",
       "    <tr>\n",
       "      <th>4</th>\n",
       "      <td>1</td>\n",
       "      <td>0</td>\n",
       "      <td>0</td>\n",
       "      <td>0</td>\n",
       "      <td>2</td>\n",
       "      <td>1</td>\n",
       "      <td>0</td>\n",
       "      <td>0</td>\n",
       "      <td>0</td>\n",
       "      <td>0</td>\n",
       "      <td>0</td>\n",
       "      <td>0</td>\n",
       "      <td>0</td>\n",
       "      <td>1</td>\n",
       "      <td>70.70</td>\n",
       "      <td>151.65</td>\n",
       "      <td>1</td>\n",
       "      <td>0</td>\n",
       "      <td>1</td>\n",
       "      <td>0</td>\n",
       "      <td>1</td>\n",
       "      <td>0</td>\n",
       "      <td>0</td>\n",
       "      <td>0</td>\n",
       "      <td>0</td>\n",
       "      <td>1</td>\n",
       "      <td>0</td>\n",
       "    </tr>\n",
       "  </tbody>\n",
       "</table>\n",
       "</div>"
      ],
      "text/plain": [
       "   gender  ...  PaymentMethod_Mailed check\n",
       "0       1  ...                           0\n",
       "1       0  ...                           1\n",
       "2       0  ...                           1\n",
       "3       0  ...                           0\n",
       "4       1  ...                           0\n",
       "\n",
       "[5 rows x 27 columns]"
      ]
     },
     "execution_count": 29,
     "metadata": {
      "tags": []
     },
     "output_type": "execute_result"
    }
   ],
   "source": [
    "# lets apply one hot encoding to object columns with more than two categorical values\n",
    "telco_df1=pd.get_dummies(data=telco_df,columns=['InternetService','Contract','PaymentMethod'])\n",
    "telco_df1.head()"
   ]
  },
  {
   "cell_type": "code",
   "execution_count": 30,
   "metadata": {
    "colab": {
     "base_uri": "https://localhost:8080/"
    },
    "id": "xGCNbSpmE9Rd",
    "outputId": "77964142-73d8-408e-a253-c75ea90b987b"
   },
   "outputs": [
    {
     "data": {
      "text/plain": [
       "gender                                     0\n",
       "SeniorCitizen                              0\n",
       "Partner                                    0\n",
       "Dependents                                 0\n",
       "tenure                                     0\n",
       "PhoneService                               0\n",
       "MultipleLines                              0\n",
       "OnlineSecurity                             0\n",
       "OnlineBackup                               0\n",
       "DeviceProtection                           0\n",
       "TechSupport                                0\n",
       "StreamingTV                                0\n",
       "StreamingMovies                            0\n",
       "PaperlessBilling                           0\n",
       "MonthlyCharges                             0\n",
       "TotalCharges                               0\n",
       "Churn                                      0\n",
       "InternetService_DSL                        0\n",
       "InternetService_Fiber optic                0\n",
       "InternetService_No                         0\n",
       "Contract_Month-to-month                    0\n",
       "Contract_One year                          0\n",
       "Contract_Two year                          0\n",
       "PaymentMethod_Bank transfer (automatic)    0\n",
       "PaymentMethod_Credit card (automatic)      0\n",
       "PaymentMethod_Electronic check             0\n",
       "PaymentMethod_Mailed check                 0\n",
       "dtype: int64"
      ]
     },
     "execution_count": 30,
     "metadata": {
      "tags": []
     },
     "output_type": "execute_result"
    }
   ],
   "source": [
    "telco_df1.isnull().sum()"
   ]
  },
  {
   "cell_type": "code",
   "execution_count": 31,
   "metadata": {
    "colab": {
     "base_uri": "https://localhost:8080/"
    },
    "id": "oVzhV232FGFl",
    "outputId": "35baf420-b985-4ebe-a666-73a2f8127d68"
   },
   "outputs": [
    {
     "data": {
      "text/plain": [
       "Index(['gender', 'SeniorCitizen', 'Partner', 'Dependents', 'tenure',\n",
       "       'PhoneService', 'MultipleLines', 'OnlineSecurity', 'OnlineBackup',\n",
       "       'DeviceProtection', 'TechSupport', 'StreamingTV', 'StreamingMovies',\n",
       "       'PaperlessBilling', 'MonthlyCharges', 'TotalCharges', 'Churn',\n",
       "       'InternetService_DSL', 'InternetService_Fiber optic',\n",
       "       'InternetService_No', 'Contract_Month-to-month', 'Contract_One year',\n",
       "       'Contract_Two year', 'PaymentMethod_Bank transfer (automatic)',\n",
       "       'PaymentMethod_Credit card (automatic)',\n",
       "       'PaymentMethod_Electronic check', 'PaymentMethod_Mailed check'],\n",
       "      dtype='object')"
      ]
     },
     "execution_count": 31,
     "metadata": {
      "tags": []
     },
     "output_type": "execute_result"
    }
   ],
   "source": [
    "telco_df1.columns"
   ]
  },
  {
   "cell_type": "code",
   "execution_count": 32,
   "metadata": {
    "colab": {
     "base_uri": "https://localhost:8080/",
     "height": 249
    },
    "id": "0-EShTJ-J9SK",
    "outputId": "81abf868-6ce7-417c-f8a2-9c20f11922cc"
   },
   "outputs": [
    {
     "data": {
      "text/html": [
       "<div>\n",
       "<style scoped>\n",
       "    .dataframe tbody tr th:only-of-type {\n",
       "        vertical-align: middle;\n",
       "    }\n",
       "\n",
       "    .dataframe tbody tr th {\n",
       "        vertical-align: top;\n",
       "    }\n",
       "\n",
       "    .dataframe thead th {\n",
       "        text-align: right;\n",
       "    }\n",
       "</style>\n",
       "<table border=\"1\" class=\"dataframe\">\n",
       "  <thead>\n",
       "    <tr style=\"text-align: right;\">\n",
       "      <th></th>\n",
       "      <th>gender</th>\n",
       "      <th>SeniorCitizen</th>\n",
       "      <th>Partner</th>\n",
       "      <th>Dependents</th>\n",
       "      <th>tenure</th>\n",
       "      <th>PhoneService</th>\n",
       "      <th>MultipleLines</th>\n",
       "      <th>OnlineSecurity</th>\n",
       "      <th>OnlineBackup</th>\n",
       "      <th>DeviceProtection</th>\n",
       "      <th>TechSupport</th>\n",
       "      <th>StreamingTV</th>\n",
       "      <th>StreamingMovies</th>\n",
       "      <th>PaperlessBilling</th>\n",
       "      <th>MonthlyCharges</th>\n",
       "      <th>TotalCharges</th>\n",
       "      <th>Churn</th>\n",
       "      <th>InternetService_DSL</th>\n",
       "      <th>InternetService_Fiber optic</th>\n",
       "      <th>InternetService_No</th>\n",
       "      <th>Contract_Month-to-month</th>\n",
       "      <th>Contract_One year</th>\n",
       "      <th>Contract_Two year</th>\n",
       "      <th>PaymentMethod_Bank transfer (automatic)</th>\n",
       "      <th>PaymentMethod_Credit card (automatic)</th>\n",
       "      <th>PaymentMethod_Electronic check</th>\n",
       "      <th>PaymentMethod_Mailed check</th>\n",
       "    </tr>\n",
       "  </thead>\n",
       "  <tbody>\n",
       "    <tr>\n",
       "      <th>0</th>\n",
       "      <td>1</td>\n",
       "      <td>0</td>\n",
       "      <td>1</td>\n",
       "      <td>0</td>\n",
       "      <td>1</td>\n",
       "      <td>0</td>\n",
       "      <td>0</td>\n",
       "      <td>0</td>\n",
       "      <td>1</td>\n",
       "      <td>0</td>\n",
       "      <td>0</td>\n",
       "      <td>0</td>\n",
       "      <td>0</td>\n",
       "      <td>1</td>\n",
       "      <td>29.85</td>\n",
       "      <td>29.85</td>\n",
       "      <td>0</td>\n",
       "      <td>1</td>\n",
       "      <td>0</td>\n",
       "      <td>0</td>\n",
       "      <td>1</td>\n",
       "      <td>0</td>\n",
       "      <td>0</td>\n",
       "      <td>0</td>\n",
       "      <td>0</td>\n",
       "      <td>1</td>\n",
       "      <td>0</td>\n",
       "    </tr>\n",
       "    <tr>\n",
       "      <th>1</th>\n",
       "      <td>0</td>\n",
       "      <td>0</td>\n",
       "      <td>0</td>\n",
       "      <td>0</td>\n",
       "      <td>34</td>\n",
       "      <td>1</td>\n",
       "      <td>0</td>\n",
       "      <td>1</td>\n",
       "      <td>0</td>\n",
       "      <td>1</td>\n",
       "      <td>0</td>\n",
       "      <td>0</td>\n",
       "      <td>0</td>\n",
       "      <td>0</td>\n",
       "      <td>56.95</td>\n",
       "      <td>1889.50</td>\n",
       "      <td>0</td>\n",
       "      <td>1</td>\n",
       "      <td>0</td>\n",
       "      <td>0</td>\n",
       "      <td>0</td>\n",
       "      <td>1</td>\n",
       "      <td>0</td>\n",
       "      <td>0</td>\n",
       "      <td>0</td>\n",
       "      <td>0</td>\n",
       "      <td>1</td>\n",
       "    </tr>\n",
       "    <tr>\n",
       "      <th>2</th>\n",
       "      <td>0</td>\n",
       "      <td>0</td>\n",
       "      <td>0</td>\n",
       "      <td>0</td>\n",
       "      <td>2</td>\n",
       "      <td>1</td>\n",
       "      <td>0</td>\n",
       "      <td>1</td>\n",
       "      <td>1</td>\n",
       "      <td>0</td>\n",
       "      <td>0</td>\n",
       "      <td>0</td>\n",
       "      <td>0</td>\n",
       "      <td>1</td>\n",
       "      <td>53.85</td>\n",
       "      <td>108.15</td>\n",
       "      <td>1</td>\n",
       "      <td>1</td>\n",
       "      <td>0</td>\n",
       "      <td>0</td>\n",
       "      <td>1</td>\n",
       "      <td>0</td>\n",
       "      <td>0</td>\n",
       "      <td>0</td>\n",
       "      <td>0</td>\n",
       "      <td>0</td>\n",
       "      <td>1</td>\n",
       "    </tr>\n",
       "    <tr>\n",
       "      <th>3</th>\n",
       "      <td>0</td>\n",
       "      <td>0</td>\n",
       "      <td>0</td>\n",
       "      <td>0</td>\n",
       "      <td>45</td>\n",
       "      <td>0</td>\n",
       "      <td>0</td>\n",
       "      <td>1</td>\n",
       "      <td>0</td>\n",
       "      <td>1</td>\n",
       "      <td>1</td>\n",
       "      <td>0</td>\n",
       "      <td>0</td>\n",
       "      <td>0</td>\n",
       "      <td>42.30</td>\n",
       "      <td>1840.75</td>\n",
       "      <td>0</td>\n",
       "      <td>1</td>\n",
       "      <td>0</td>\n",
       "      <td>0</td>\n",
       "      <td>0</td>\n",
       "      <td>1</td>\n",
       "      <td>0</td>\n",
       "      <td>1</td>\n",
       "      <td>0</td>\n",
       "      <td>0</td>\n",
       "      <td>0</td>\n",
       "    </tr>\n",
       "    <tr>\n",
       "      <th>4</th>\n",
       "      <td>1</td>\n",
       "      <td>0</td>\n",
       "      <td>0</td>\n",
       "      <td>0</td>\n",
       "      <td>2</td>\n",
       "      <td>1</td>\n",
       "      <td>0</td>\n",
       "      <td>0</td>\n",
       "      <td>0</td>\n",
       "      <td>0</td>\n",
       "      <td>0</td>\n",
       "      <td>0</td>\n",
       "      <td>0</td>\n",
       "      <td>1</td>\n",
       "      <td>70.70</td>\n",
       "      <td>151.65</td>\n",
       "      <td>1</td>\n",
       "      <td>0</td>\n",
       "      <td>1</td>\n",
       "      <td>0</td>\n",
       "      <td>1</td>\n",
       "      <td>0</td>\n",
       "      <td>0</td>\n",
       "      <td>0</td>\n",
       "      <td>0</td>\n",
       "      <td>1</td>\n",
       "      <td>0</td>\n",
       "    </tr>\n",
       "  </tbody>\n",
       "</table>\n",
       "</div>"
      ],
      "text/plain": [
       "   gender  ...  PaymentMethod_Mailed check\n",
       "0       1  ...                           0\n",
       "1       0  ...                           1\n",
       "2       0  ...                           1\n",
       "3       0  ...                           0\n",
       "4       1  ...                           0\n",
       "\n",
       "[5 rows x 27 columns]"
      ]
     },
     "execution_count": 32,
     "metadata": {
      "tags": []
     },
     "output_type": "execute_result"
    }
   ],
   "source": [
    "telco_df1.head()"
   ]
  },
  {
   "cell_type": "code",
   "execution_count": 33,
   "metadata": {
    "colab": {
     "base_uri": "https://localhost:8080/"
    },
    "id": "P96ry5hSLU8b",
    "outputId": "675ae641-29e8-4598-87ac-88fea894124c"
   },
   "outputs": [
    {
     "name": "stdout",
     "output_type": "stream",
     "text": [
      "gender : [1 0]\n",
      "SeniorCitizen : [0 1]\n",
      "Partner : [1 0]\n",
      "Dependents : [0 1]\n",
      "tenure : [ 1 34  2 45  8 22 10 28 62 13 16 58 49 25 69 52 71 21 12 30 47 72 17 27\n",
      "  5 46 11 70 63 43 15 60 18 66  9  3 31 50 64 56  7 42 35 48 29 65 38 68\n",
      " 32 55 37 36 41  6  4 33 67 23 57 61 14 20 53 40 59 24 44 19 54 51 26 39]\n",
      "PhoneService : [0 1]\n",
      "MultipleLines : [0 1]\n",
      "OnlineSecurity : [0 1]\n",
      "OnlineBackup : [1 0]\n",
      "DeviceProtection : [0 1]\n",
      "TechSupport : [0 1]\n",
      "StreamingTV : [0 1]\n",
      "StreamingMovies : [0 1]\n",
      "PaperlessBilling : [1 0]\n",
      "MonthlyCharges : [29.85 56.95 53.85 ... 63.1  44.2  78.7 ]\n",
      "TotalCharges : [  29.85 1889.5   108.15 ...  346.45  306.6  6844.5 ]\n",
      "Churn : [0 1]\n",
      "InternetService_DSL : [1 0]\n",
      "InternetService_Fiber optic : [0 1]\n",
      "InternetService_No : [0 1]\n",
      "Contract_Month-to-month : [1 0]\n",
      "Contract_One year : [0 1]\n",
      "Contract_Two year : [0 1]\n",
      "PaymentMethod_Bank transfer (automatic) : [0 1]\n",
      "PaymentMethod_Credit card (automatic) : [0 1]\n",
      "PaymentMethod_Electronic check : [1 0]\n",
      "PaymentMethod_Mailed check : [0 1]\n"
     ]
    }
   ],
   "source": [
    "for col in telco_df1:\n",
    "  print(f'{col} : {telco_df1[col].unique()}')"
   ]
  },
  {
   "cell_type": "code",
   "execution_count": 34,
   "metadata": {
    "id": "KBXYqwBYMxKh"
   },
   "outputs": [],
   "source": [
    "# since our data is processed neatly\n",
    "# lets perform train test split to apply ANN\n",
    "X = telco_df1.drop('Churn',axis=1)\n",
    "y = telco_df1['Churn']\n",
    "\n",
    "from sklearn.model_selection import train_test_split\n",
    "X_train, X_test, y_train, y_test = train_test_split(X,y,test_size=0.2,random_state=21)"
   ]
  },
  {
   "cell_type": "code",
   "execution_count": 35,
   "metadata": {
    "colab": {
     "base_uri": "https://localhost:8080/"
    },
    "id": "Bs5r5XTBNgA8",
    "outputId": "ea925e63-7209-4f7d-b27e-6ce6382691f9"
   },
   "outputs": [
    {
     "name": "stdout",
     "output_type": "stream",
     "text": [
      "(5625, 26)\n",
      "(1407, 26)\n",
      "(5625,)\n",
      "(1407,)\n"
     ]
    }
   ],
   "source": [
    "print(X_train.shape)\n",
    "print(X_test.shape)\n",
    "print(y_train.shape)\n",
    "print(y_test.shape)"
   ]
  },
  {
   "cell_type": "code",
   "execution_count": 36,
   "metadata": {
    "id": "ckG4JcFnFZvj"
   },
   "outputs": [],
   "source": [
    "# lets apply standardization \n",
    "from sklearn.preprocessing import StandardScaler\n",
    "sc=StandardScaler()\n",
    "sc.fit(X_train)\n",
    "X_train = sc.transform(X_train)\n",
    "X_test = sc.transform(X_test)"
   ]
  },
  {
   "cell_type": "code",
   "execution_count": 37,
   "metadata": {
    "colab": {
     "base_uri": "https://localhost:8080/"
    },
    "id": "g2SIWRAOGR07",
    "outputId": "7c714e95-6941-4817-d4b0-e11a96c58647"
   },
   "outputs": [
    {
     "name": "stdout",
     "output_type": "stream",
     "text": [
      "(5625, 26)\n",
      "(1407, 26)\n",
      "(5625,)\n",
      "(1407,)\n"
     ]
    }
   ],
   "source": [
    "print(X_train.shape)\n",
    "print(X_test.shape)\n",
    "print(y_train.shape)\n",
    "print(y_test.shape)"
   ]
  },
  {
   "cell_type": "code",
   "execution_count": 38,
   "metadata": {
    "id": "AzhBNOUKOOlb"
   },
   "outputs": [],
   "source": [
    "# lets import libraries and build ANN model\n",
    "import tensorflow as tf\n",
    "from tensorflow import keras"
   ]
  },
  {
   "cell_type": "code",
   "execution_count": 39,
   "metadata": {
    "id": "YJTEq9YAOqsv"
   },
   "outputs": [],
   "source": [
    "model=keras.Sequential([\n",
    "                        keras.layers.Dense(26,input_shape=(26,),activation='relu'),\n",
    "                        keras.layers.Dense(15,activation='relu'),\n",
    "                        keras.layers.Dense(1,activation='sigmoid')\n",
    "])"
   ]
  },
  {
   "cell_type": "code",
   "execution_count": 40,
   "metadata": {
    "colab": {
     "base_uri": "https://localhost:8080/"
    },
    "id": "L31Y13K_vmo7",
    "outputId": "1ef42ef6-6c4b-4cec-abc5-742bfa313ecb"
   },
   "outputs": [
    {
     "name": "stdout",
     "output_type": "stream",
     "text": [
      "\n",
      "Epoch 00001: val_accuracy improved from -inf to 0.77470, saving model to best_model.h5\n",
      "\n",
      "Epoch 00002: val_accuracy improved from 0.77470 to 0.78607, saving model to best_model.h5\n",
      "\n",
      "Epoch 00003: val_accuracy improved from 0.78607 to 0.78820, saving model to best_model.h5\n",
      "\n",
      "Epoch 00004: val_accuracy did not improve from 0.78820\n",
      "\n",
      "Epoch 00005: val_accuracy improved from 0.78820 to 0.79247, saving model to best_model.h5\n",
      "\n",
      "Epoch 00006: val_accuracy improved from 0.79247 to 0.79673, saving model to best_model.h5\n",
      "\n",
      "Epoch 00007: val_accuracy improved from 0.79673 to 0.79815, saving model to best_model.h5\n",
      "\n",
      "Epoch 00008: val_accuracy did not improve from 0.79815\n",
      "\n",
      "Epoch 00009: val_accuracy did not improve from 0.79815\n",
      "\n",
      "Epoch 00010: val_accuracy improved from 0.79815 to 0.79957, saving model to best_model.h5\n",
      "\n",
      "Epoch 00011: val_accuracy did not improve from 0.79957\n",
      "\n",
      "Epoch 00012: val_accuracy did not improve from 0.79957\n",
      "\n",
      "Epoch 00013: val_accuracy did not improve from 0.79957\n",
      "\n",
      "Epoch 00014: val_accuracy did not improve from 0.79957\n",
      "\n",
      "Epoch 00015: val_accuracy did not improve from 0.79957\n",
      "\n",
      "Epoch 00016: val_accuracy did not improve from 0.79957\n",
      "\n",
      "Epoch 00017: val_accuracy did not improve from 0.79957\n",
      "\n",
      "Epoch 00018: val_accuracy did not improve from 0.79957\n",
      "\n",
      "Epoch 00019: val_accuracy did not improve from 0.79957\n",
      "\n",
      "Epoch 00020: val_accuracy did not improve from 0.79957\n",
      "\n",
      "Epoch 00021: val_accuracy did not improve from 0.79957\n",
      "\n",
      "Epoch 00022: val_accuracy did not improve from 0.79957\n",
      "\n",
      "Epoch 00023: val_accuracy did not improve from 0.79957\n",
      "\n",
      "Epoch 00024: val_accuracy did not improve from 0.79957\n",
      "\n",
      "Epoch 00025: val_accuracy did not improve from 0.79957\n",
      "\n",
      "Epoch 00026: val_accuracy did not improve from 0.79957\n",
      "\n",
      "Epoch 00027: val_accuracy did not improve from 0.79957\n",
      "\n",
      "Epoch 00028: val_accuracy did not improve from 0.79957\n",
      "\n",
      "Epoch 00029: val_accuracy did not improve from 0.79957\n",
      "\n",
      "Epoch 00030: val_accuracy did not improve from 0.79957\n",
      "\n",
      "Epoch 00031: val_accuracy did not improve from 0.79957\n",
      "\n",
      "Epoch 00032: val_accuracy did not improve from 0.79957\n",
      "\n",
      "Epoch 00033: val_accuracy did not improve from 0.79957\n",
      "\n",
      "Epoch 00034: val_accuracy did not improve from 0.79957\n",
      "\n",
      "Epoch 00035: val_accuracy did not improve from 0.79957\n",
      "\n",
      "Epoch 00036: val_accuracy did not improve from 0.79957\n",
      "\n",
      "Epoch 00037: val_accuracy did not improve from 0.79957\n",
      "\n",
      "Epoch 00038: val_accuracy did not improve from 0.79957\n",
      "\n",
      "Epoch 00039: val_accuracy did not improve from 0.79957\n",
      "\n",
      "Epoch 00040: val_accuracy did not improve from 0.79957\n",
      "\n",
      "Epoch 00041: val_accuracy did not improve from 0.79957\n",
      "\n",
      "Epoch 00042: val_accuracy did not improve from 0.79957\n",
      "\n",
      "Epoch 00043: val_accuracy did not improve from 0.79957\n",
      "\n",
      "Epoch 00044: val_accuracy did not improve from 0.79957\n",
      "\n",
      "Epoch 00045: val_accuracy did not improve from 0.79957\n",
      "\n",
      "Epoch 00046: val_accuracy did not improve from 0.79957\n",
      "\n",
      "Epoch 00047: val_accuracy did not improve from 0.79957\n",
      "\n",
      "Epoch 00048: val_accuracy did not improve from 0.79957\n",
      "\n",
      "Epoch 00049: val_accuracy did not improve from 0.79957\n",
      "\n",
      "Epoch 00050: val_accuracy did not improve from 0.79957\n",
      "\n",
      "Epoch 00051: val_accuracy did not improve from 0.79957\n",
      "\n",
      "Epoch 00052: val_accuracy did not improve from 0.79957\n",
      "\n",
      "Epoch 00053: val_accuracy did not improve from 0.79957\n",
      "\n",
      "Epoch 00054: val_accuracy did not improve from 0.79957\n",
      "\n",
      "Epoch 00055: val_accuracy did not improve from 0.79957\n",
      "\n",
      "Epoch 00056: val_accuracy did not improve from 0.79957\n",
      "\n",
      "Epoch 00057: val_accuracy did not improve from 0.79957\n",
      "\n",
      "Epoch 00058: val_accuracy did not improve from 0.79957\n",
      "\n",
      "Epoch 00059: val_accuracy did not improve from 0.79957\n",
      "\n",
      "Epoch 00060: val_accuracy did not improve from 0.79957\n",
      "\n",
      "Epoch 00061: val_accuracy did not improve from 0.79957\n",
      "\n",
      "Epoch 00062: val_accuracy did not improve from 0.79957\n",
      "\n",
      "Epoch 00063: val_accuracy did not improve from 0.79957\n",
      "\n",
      "Epoch 00064: val_accuracy did not improve from 0.79957\n",
      "\n",
      "Epoch 00065: val_accuracy did not improve from 0.79957\n",
      "\n",
      "Epoch 00066: val_accuracy did not improve from 0.79957\n",
      "\n",
      "Epoch 00067: val_accuracy did not improve from 0.79957\n",
      "\n",
      "Epoch 00068: val_accuracy did not improve from 0.79957\n",
      "\n",
      "Epoch 00069: val_accuracy did not improve from 0.79957\n",
      "\n",
      "Epoch 00070: val_accuracy did not improve from 0.79957\n",
      "\n",
      "Epoch 00071: val_accuracy did not improve from 0.79957\n",
      "\n",
      "Epoch 00072: val_accuracy did not improve from 0.79957\n",
      "\n",
      "Epoch 00073: val_accuracy did not improve from 0.79957\n",
      "\n",
      "Epoch 00074: val_accuracy did not improve from 0.79957\n",
      "\n",
      "Epoch 00075: val_accuracy did not improve from 0.79957\n",
      "\n",
      "Epoch 00076: val_accuracy did not improve from 0.79957\n",
      "\n",
      "Epoch 00077: val_accuracy did not improve from 0.79957\n",
      "\n",
      "Epoch 00078: val_accuracy did not improve from 0.79957\n",
      "\n",
      "Epoch 00079: val_accuracy did not improve from 0.79957\n",
      "\n",
      "Epoch 00080: val_accuracy did not improve from 0.79957\n",
      "\n",
      "Epoch 00081: val_accuracy did not improve from 0.79957\n",
      "\n",
      "Epoch 00082: val_accuracy did not improve from 0.79957\n",
      "\n",
      "Epoch 00083: val_accuracy did not improve from 0.79957\n",
      "\n",
      "Epoch 00084: val_accuracy did not improve from 0.79957\n",
      "\n",
      "Epoch 00085: val_accuracy did not improve from 0.79957\n",
      "\n",
      "Epoch 00086: val_accuracy did not improve from 0.79957\n",
      "\n",
      "Epoch 00087: val_accuracy did not improve from 0.79957\n",
      "\n",
      "Epoch 00088: val_accuracy did not improve from 0.79957\n",
      "\n",
      "Epoch 00089: val_accuracy did not improve from 0.79957\n",
      "\n",
      "Epoch 00090: val_accuracy did not improve from 0.79957\n",
      "\n",
      "Epoch 00091: val_accuracy did not improve from 0.79957\n",
      "\n",
      "Epoch 00092: val_accuracy did not improve from 0.79957\n",
      "\n",
      "Epoch 00093: val_accuracy did not improve from 0.79957\n",
      "\n",
      "Epoch 00094: val_accuracy did not improve from 0.79957\n",
      "\n",
      "Epoch 00095: val_accuracy did not improve from 0.79957\n",
      "\n",
      "Epoch 00096: val_accuracy did not improve from 0.79957\n",
      "\n",
      "Epoch 00097: val_accuracy did not improve from 0.79957\n",
      "\n",
      "Epoch 00098: val_accuracy did not improve from 0.79957\n",
      "\n",
      "Epoch 00099: val_accuracy did not improve from 0.79957\n",
      "\n",
      "Epoch 00100: val_accuracy did not improve from 0.79957\n",
      "\n",
      "Epoch 00101: val_accuracy did not improve from 0.79957\n",
      "\n",
      "Epoch 00102: val_accuracy did not improve from 0.79957\n",
      "\n",
      "Epoch 00103: val_accuracy did not improve from 0.79957\n",
      "\n",
      "Epoch 00104: val_accuracy did not improve from 0.79957\n",
      "\n",
      "Epoch 00105: val_accuracy did not improve from 0.79957\n",
      "\n",
      "Epoch 00106: val_accuracy did not improve from 0.79957\n",
      "\n",
      "Epoch 00107: val_accuracy did not improve from 0.79957\n",
      "\n",
      "Epoch 00108: val_accuracy did not improve from 0.79957\n",
      "\n",
      "Epoch 00109: val_accuracy did not improve from 0.79957\n",
      "\n",
      "Epoch 00110: val_accuracy did not improve from 0.79957\n",
      "\n",
      "Epoch 00111: val_accuracy did not improve from 0.79957\n",
      "\n",
      "Epoch 00112: val_accuracy did not improve from 0.79957\n",
      "\n",
      "Epoch 00113: val_accuracy did not improve from 0.79957\n",
      "\n",
      "Epoch 00114: val_accuracy did not improve from 0.79957\n",
      "\n",
      "Epoch 00115: val_accuracy did not improve from 0.79957\n",
      "\n",
      "Epoch 00116: val_accuracy did not improve from 0.79957\n",
      "\n",
      "Epoch 00117: val_accuracy did not improve from 0.79957\n",
      "\n",
      "Epoch 00118: val_accuracy did not improve from 0.79957\n",
      "\n",
      "Epoch 00119: val_accuracy did not improve from 0.79957\n",
      "\n",
      "Epoch 00120: val_accuracy did not improve from 0.79957\n",
      "\n",
      "Epoch 00121: val_accuracy did not improve from 0.79957\n",
      "\n",
      "Epoch 00122: val_accuracy did not improve from 0.79957\n",
      "\n",
      "Epoch 00123: val_accuracy did not improve from 0.79957\n",
      "\n",
      "Epoch 00124: val_accuracy did not improve from 0.79957\n",
      "\n",
      "Epoch 00125: val_accuracy did not improve from 0.79957\n",
      "\n",
      "Epoch 00126: val_accuracy did not improve from 0.79957\n",
      "\n",
      "Epoch 00127: val_accuracy did not improve from 0.79957\n",
      "\n",
      "Epoch 00128: val_accuracy did not improve from 0.79957\n",
      "\n",
      "Epoch 00129: val_accuracy did not improve from 0.79957\n",
      "\n",
      "Epoch 00130: val_accuracy did not improve from 0.79957\n",
      "\n",
      "Epoch 00131: val_accuracy did not improve from 0.79957\n",
      "\n",
      "Epoch 00132: val_accuracy did not improve from 0.79957\n",
      "\n",
      "Epoch 00133: val_accuracy did not improve from 0.79957\n",
      "\n",
      "Epoch 00134: val_accuracy did not improve from 0.79957\n",
      "\n",
      "Epoch 00135: val_accuracy did not improve from 0.79957\n",
      "\n",
      "Epoch 00136: val_accuracy did not improve from 0.79957\n",
      "\n",
      "Epoch 00137: val_accuracy did not improve from 0.79957\n",
      "\n",
      "Epoch 00138: val_accuracy did not improve from 0.79957\n",
      "\n",
      "Epoch 00139: val_accuracy did not improve from 0.79957\n",
      "\n",
      "Epoch 00140: val_accuracy did not improve from 0.79957\n",
      "\n",
      "Epoch 00141: val_accuracy did not improve from 0.79957\n",
      "\n",
      "Epoch 00142: val_accuracy did not improve from 0.79957\n",
      "\n",
      "Epoch 00143: val_accuracy did not improve from 0.79957\n",
      "\n",
      "Epoch 00144: val_accuracy did not improve from 0.79957\n",
      "\n",
      "Epoch 00145: val_accuracy did not improve from 0.79957\n",
      "\n",
      "Epoch 00146: val_accuracy did not improve from 0.79957\n",
      "\n",
      "Epoch 00147: val_accuracy did not improve from 0.79957\n",
      "\n",
      "Epoch 00148: val_accuracy did not improve from 0.79957\n",
      "\n",
      "Epoch 00149: val_accuracy did not improve from 0.79957\n",
      "\n",
      "Epoch 00150: val_accuracy did not improve from 0.79957\n",
      "\n",
      "Epoch 00151: val_accuracy did not improve from 0.79957\n",
      "\n",
      "Epoch 00152: val_accuracy did not improve from 0.79957\n",
      "\n",
      "Epoch 00153: val_accuracy did not improve from 0.79957\n",
      "\n",
      "Epoch 00154: val_accuracy did not improve from 0.79957\n",
      "\n",
      "Epoch 00155: val_accuracy did not improve from 0.79957\n",
      "\n",
      "Epoch 00156: val_accuracy did not improve from 0.79957\n",
      "\n",
      "Epoch 00157: val_accuracy did not improve from 0.79957\n",
      "\n",
      "Epoch 00158: val_accuracy did not improve from 0.79957\n",
      "\n",
      "Epoch 00159: val_accuracy did not improve from 0.79957\n",
      "\n",
      "Epoch 00160: val_accuracy did not improve from 0.79957\n",
      "\n",
      "Epoch 00161: val_accuracy did not improve from 0.79957\n",
      "\n",
      "Epoch 00162: val_accuracy did not improve from 0.79957\n",
      "\n",
      "Epoch 00163: val_accuracy did not improve from 0.79957\n",
      "\n",
      "Epoch 00164: val_accuracy did not improve from 0.79957\n",
      "\n",
      "Epoch 00165: val_accuracy did not improve from 0.79957\n",
      "\n",
      "Epoch 00166: val_accuracy did not improve from 0.79957\n",
      "\n",
      "Epoch 00167: val_accuracy did not improve from 0.79957\n",
      "\n",
      "Epoch 00168: val_accuracy did not improve from 0.79957\n",
      "\n",
      "Epoch 00169: val_accuracy did not improve from 0.79957\n",
      "\n",
      "Epoch 00170: val_accuracy did not improve from 0.79957\n",
      "\n",
      "Epoch 00171: val_accuracy did not improve from 0.79957\n",
      "\n",
      "Epoch 00172: val_accuracy did not improve from 0.79957\n",
      "\n",
      "Epoch 00173: val_accuracy did not improve from 0.79957\n",
      "\n",
      "Epoch 00174: val_accuracy did not improve from 0.79957\n",
      "\n",
      "Epoch 00175: val_accuracy did not improve from 0.79957\n",
      "\n",
      "Epoch 00176: val_accuracy did not improve from 0.79957\n",
      "\n",
      "Epoch 00177: val_accuracy did not improve from 0.79957\n",
      "\n",
      "Epoch 00178: val_accuracy did not improve from 0.79957\n",
      "\n",
      "Epoch 00179: val_accuracy did not improve from 0.79957\n",
      "\n",
      "Epoch 00180: val_accuracy did not improve from 0.79957\n",
      "\n",
      "Epoch 00181: val_accuracy did not improve from 0.79957\n",
      "\n",
      "Epoch 00182: val_accuracy did not improve from 0.79957\n",
      "\n",
      "Epoch 00183: val_accuracy did not improve from 0.79957\n",
      "\n",
      "Epoch 00184: val_accuracy did not improve from 0.79957\n",
      "\n",
      "Epoch 00185: val_accuracy did not improve from 0.79957\n",
      "\n",
      "Epoch 00186: val_accuracy did not improve from 0.79957\n",
      "\n",
      "Epoch 00187: val_accuracy did not improve from 0.79957\n",
      "\n",
      "Epoch 00188: val_accuracy did not improve from 0.79957\n",
      "\n",
      "Epoch 00189: val_accuracy did not improve from 0.79957\n",
      "\n",
      "Epoch 00190: val_accuracy did not improve from 0.79957\n",
      "\n",
      "Epoch 00191: val_accuracy did not improve from 0.79957\n",
      "\n",
      "Epoch 00192: val_accuracy did not improve from 0.79957\n",
      "\n",
      "Epoch 00193: val_accuracy did not improve from 0.79957\n",
      "\n",
      "Epoch 00194: val_accuracy did not improve from 0.79957\n",
      "\n",
      "Epoch 00195: val_accuracy did not improve from 0.79957\n",
      "\n",
      "Epoch 00196: val_accuracy did not improve from 0.79957\n",
      "\n",
      "Epoch 00197: val_accuracy did not improve from 0.79957\n",
      "\n",
      "Epoch 00198: val_accuracy did not improve from 0.79957\n",
      "\n",
      "Epoch 00199: val_accuracy did not improve from 0.79957\n",
      "\n",
      "Epoch 00200: val_accuracy did not improve from 0.79957\n",
      "\n",
      "Epoch 00201: val_accuracy did not improve from 0.79957\n",
      "\n",
      "Epoch 00202: val_accuracy did not improve from 0.79957\n",
      "\n",
      "Epoch 00203: val_accuracy did not improve from 0.79957\n",
      "\n",
      "Epoch 00204: val_accuracy did not improve from 0.79957\n",
      "\n",
      "Epoch 00205: val_accuracy did not improve from 0.79957\n",
      "\n",
      "Epoch 00206: val_accuracy did not improve from 0.79957\n",
      "\n",
      "Epoch 00207: val_accuracy did not improve from 0.79957\n",
      "\n",
      "Epoch 00208: val_accuracy did not improve from 0.79957\n",
      "\n",
      "Epoch 00209: val_accuracy did not improve from 0.79957\n",
      "\n",
      "Epoch 00210: val_accuracy did not improve from 0.79957\n",
      "Epoch 00210: early stopping\n",
      "Train: 0.814, Test: 0.800\n"
     ]
    }
   ],
   "source": [
    "model.compile(loss='binary_crossentropy', optimizer='adam', metrics=['accuracy'])\n",
    "from keras.callbacks import EarlyStopping\n",
    "from keras.callbacks import ModelCheckpoint\n",
    "from keras.models import load_model\n",
    "# simple early stopping\n",
    "es = EarlyStopping(monitor='val_loss', mode='min', verbose=1, patience=200)\n",
    "mc = ModelCheckpoint('best_model.h5', monitor='val_accuracy', mode='max', verbose=1, save_best_only=True)\n",
    "# fit model\n",
    "history = model.fit(X_train, y_train, validation_data=(X_test, y_test), epochs=4000, verbose=0, callbacks=[es, mc])\n",
    "# load the saved model\n",
    "saved_model = load_model('best_model.h5')\n",
    "# evaluate the model\n",
    "_, train_acc = saved_model.evaluate(X_train, y_train, verbose=0)\n",
    "_, test_acc = saved_model.evaluate(X_test, y_test, verbose=0)\n",
    "print('Train: %.3f, Test: %.3f' % (train_acc, test_acc))"
   ]
  },
  {
   "cell_type": "code",
   "execution_count": 41,
   "metadata": {
    "colab": {
     "base_uri": "https://localhost:8080/"
    },
    "id": "k2M0p9Es3eqi",
    "outputId": "4e32ec48-4d68-4da6-c630-29d6f72396a0"
   },
   "outputs": [
    {
     "name": "stdout",
     "output_type": "stream",
     "text": [
      "44/44 [==============================] - 0s 1ms/step - loss: 0.6366 - accuracy: 0.7541\n"
     ]
    },
    {
     "data": {
      "text/plain": [
       "[0.6366485357284546, 0.7540867328643799]"
      ]
     },
     "execution_count": 41,
     "metadata": {
      "tags": []
     },
     "output_type": "execute_result"
    }
   ],
   "source": [
    "model.evaluate(X_test, y_test)"
   ]
  },
  {
   "cell_type": "code",
   "execution_count": 42,
   "metadata": {
    "colab": {
     "base_uri": "https://localhost:8080/"
    },
    "id": "YasOPuH9HOJ4",
    "outputId": "74e40d15-e0cb-48dd-fa94-5f57d6f102d1"
   },
   "outputs": [
    {
     "data": {
      "text/plain": [
       "['scaler.pkl']"
      ]
     },
     "execution_count": 42,
     "metadata": {
      "tags": []
     },
     "output_type": "execute_result"
    }
   ],
   "source": [
    "import joblib\n",
    "joblib.dump(sc,'scaler.pkl')"
   ]
  },
  {
   "cell_type": "code",
   "execution_count": 43,
   "metadata": {
    "id": "dd-fLr-9HpEi"
   },
   "outputs": [],
   "source": [
    "# loading model\n",
    "sc = joblib.load('scaler.pkl')"
   ]
  },
  {
   "cell_type": "code",
   "execution_count": null,
   "metadata": {
    "id": "icWCO9hCH4DT"
   },
   "outputs": [],
   "source": [
    "model = load_model('best_model.h5')"
   ]
  },
  {
   "cell_type": "code",
   "execution_count": 46,
   "metadata": {
    "colab": {
     "base_uri": "https://localhost:8080/"
    },
    "id": "9Cqn-4lqI9PM",
    "outputId": "6171ac2b-5fa4-43d0-945b-f417d8fbf4a1"
   },
   "outputs": [
    {
     "name": "stderr",
     "output_type": "stream",
     "text": [
      "/usr/local/lib/python3.7/dist-packages/tensorflow/python/keras/engine/sequential.py:450: UserWarning: `model.predict_classes()` is deprecated and will be removed after 2021-01-01. Please use instead:* `np.argmax(model.predict(x), axis=-1)`,   if your model does multi-class classification   (e.g. if it uses a `softmax` last-layer activation).* `(model.predict(x) > 0.5).astype(\"int32\")`,   if your model does binary classification   (e.g. if it uses a `sigmoid` last-layer activation).\n",
      "  warnings.warn('`model.predict_classes()` is deprecated and '\n"
     ]
    },
    {
     "data": {
      "text/plain": [
       "array([[1]], dtype=int32)"
      ]
     },
     "execution_count": 46,
     "metadata": {
      "tags": []
     },
     "output_type": "execute_result"
    }
   ],
   "source": [
    "# expected 0 but got 1\n",
    "prediction=model.predict_classes(sc.transform([[1,0,1,0,1,0,0,0,1,0,0,0,0,1,29.85,29.85,1,0,0,1,0,0,0,0,1,0]]))\n",
    "prediction"
   ]
  },
  {
   "cell_type": "code",
   "execution_count": 64,
   "metadata": {
    "colab": {
     "base_uri": "https://localhost:8080/",
     "height": 130
    },
    "id": "pQ49nOWBKGXE",
    "outputId": "51f4be4b-9bea-4755-b7ad-1c81d9f76585"
   },
   "outputs": [
    {
     "data": {
      "text/html": [
       "<div>\n",
       "<style scoped>\n",
       "    .dataframe tbody tr th:only-of-type {\n",
       "        vertical-align: middle;\n",
       "    }\n",
       "\n",
       "    .dataframe tbody tr th {\n",
       "        vertical-align: top;\n",
       "    }\n",
       "\n",
       "    .dataframe thead th {\n",
       "        text-align: right;\n",
       "    }\n",
       "</style>\n",
       "<table border=\"1\" class=\"dataframe\">\n",
       "  <thead>\n",
       "    <tr style=\"text-align: right;\">\n",
       "      <th></th>\n",
       "      <th>gender</th>\n",
       "      <th>SeniorCitizen</th>\n",
       "      <th>Partner</th>\n",
       "      <th>Dependents</th>\n",
       "      <th>tenure</th>\n",
       "      <th>PhoneService</th>\n",
       "      <th>MultipleLines</th>\n",
       "      <th>OnlineSecurity</th>\n",
       "      <th>OnlineBackup</th>\n",
       "      <th>DeviceProtection</th>\n",
       "      <th>TechSupport</th>\n",
       "      <th>StreamingTV</th>\n",
       "      <th>StreamingMovies</th>\n",
       "      <th>PaperlessBilling</th>\n",
       "      <th>MonthlyCharges</th>\n",
       "      <th>TotalCharges</th>\n",
       "      <th>Churn</th>\n",
       "      <th>InternetService_DSL</th>\n",
       "      <th>InternetService_Fiber optic</th>\n",
       "      <th>InternetService_No</th>\n",
       "      <th>Contract_Month-to-month</th>\n",
       "      <th>Contract_One year</th>\n",
       "      <th>Contract_Two year</th>\n",
       "      <th>PaymentMethod_Bank transfer (automatic)</th>\n",
       "      <th>PaymentMethod_Credit card (automatic)</th>\n",
       "      <th>PaymentMethod_Electronic check</th>\n",
       "      <th>PaymentMethod_Mailed check</th>\n",
       "    </tr>\n",
       "  </thead>\n",
       "  <tbody>\n",
       "    <tr>\n",
       "      <th>4</th>\n",
       "      <td>1</td>\n",
       "      <td>0</td>\n",
       "      <td>0</td>\n",
       "      <td>0</td>\n",
       "      <td>2</td>\n",
       "      <td>1</td>\n",
       "      <td>0</td>\n",
       "      <td>0</td>\n",
       "      <td>0</td>\n",
       "      <td>0</td>\n",
       "      <td>0</td>\n",
       "      <td>0</td>\n",
       "      <td>0</td>\n",
       "      <td>1</td>\n",
       "      <td>70.7</td>\n",
       "      <td>151.65</td>\n",
       "      <td>1</td>\n",
       "      <td>0</td>\n",
       "      <td>1</td>\n",
       "      <td>0</td>\n",
       "      <td>1</td>\n",
       "      <td>0</td>\n",
       "      <td>0</td>\n",
       "      <td>0</td>\n",
       "      <td>0</td>\n",
       "      <td>1</td>\n",
       "      <td>0</td>\n",
       "    </tr>\n",
       "  </tbody>\n",
       "</table>\n",
       "</div>"
      ],
      "text/plain": [
       "   gender  ...  PaymentMethod_Mailed check\n",
       "4       1  ...                           0\n",
       "\n",
       "[1 rows x 27 columns]"
      ]
     },
     "execution_count": 64,
     "metadata": {
      "tags": []
     },
     "output_type": "execute_result"
    }
   ],
   "source": [
    "telco_df1.iloc[[4]]"
   ]
  },
  {
   "cell_type": "code",
   "execution_count": 63,
   "metadata": {
    "colab": {
     "base_uri": "https://localhost:8080/"
    },
    "id": "G1XAWXGLKCp7",
    "outputId": "928c3df9-8599-4c7a-f45f-88db9e4a8e9a"
   },
   "outputs": [
    {
     "name": "stderr",
     "output_type": "stream",
     "text": [
      "/usr/local/lib/python3.7/dist-packages/tensorflow/python/keras/engine/sequential.py:450: UserWarning: `model.predict_classes()` is deprecated and will be removed after 2021-01-01. Please use instead:* `np.argmax(model.predict(x), axis=-1)`,   if your model does multi-class classification   (e.g. if it uses a `softmax` last-layer activation).* `(model.predict(x) > 0.5).astype(\"int32\")`,   if your model does binary classification   (e.g. if it uses a `sigmoid` last-layer activation).\n",
      "  warnings.warn('`model.predict_classes()` is deprecated and '\n"
     ]
    },
    {
     "data": {
      "text/plain": [
       "array([[1]], dtype=int32)"
      ]
     },
     "execution_count": 63,
     "metadata": {
      "tags": []
     },
     "output_type": "execute_result"
    }
   ],
   "source": [
    "# testing index 0\n",
    "# expected 0 and got 1\n",
    "prediction=model.predict_classes(sc.transform([[1,0,1,0,1,0,0,0,1,0,0,0,0,1,29.85,29.85,1,0,0,1,0,0,0,0,1,0]]))\n",
    "prediction"
   ]
  },
  {
   "cell_type": "code",
   "execution_count": 62,
   "metadata": {
    "colab": {
     "base_uri": "https://localhost:8080/"
    },
    "id": "MvIulKS-M7hU",
    "outputId": "25ad381b-30d8-45c5-bea2-f64792a8c1f8"
   },
   "outputs": [
    {
     "name": "stderr",
     "output_type": "stream",
     "text": [
      "/usr/local/lib/python3.7/dist-packages/tensorflow/python/keras/engine/sequential.py:450: UserWarning: `model.predict_classes()` is deprecated and will be removed after 2021-01-01. Please use instead:* `np.argmax(model.predict(x), axis=-1)`,   if your model does multi-class classification   (e.g. if it uses a `softmax` last-layer activation).* `(model.predict(x) > 0.5).astype(\"int32\")`,   if your model does binary classification   (e.g. if it uses a `sigmoid` last-layer activation).\n",
      "  warnings.warn('`model.predict_classes()` is deprecated and '\n"
     ]
    },
    {
     "data": {
      "text/plain": [
       "array([[0]], dtype=int32)"
      ]
     },
     "execution_count": 62,
     "metadata": {
      "tags": []
     },
     "output_type": "execute_result"
    }
   ],
   "source": [
    "# testing index 1\n",
    "# expected 0 and got 0\n",
    "prediction=model.predict_classes(sc.transform([[0,\t0,\t0\t,0,\t34,\t1\t,0,\t1\t,0,\t1\t,0,\t0\t,0,\t0,\t56.95,\t1889.5,1\t,0\t,0\t,0,\t1,\t0,\t0\t,0,\t0,\t1]]))\n",
    "prediction"
   ]
  },
  {
   "cell_type": "code",
   "execution_count": 65,
   "metadata": {
    "colab": {
     "base_uri": "https://localhost:8080/"
    },
    "id": "7NI5pP9sOF7V",
    "outputId": "3a656c13-e542-4c08-fd12-73bc75f5c3d5"
   },
   "outputs": [
    {
     "name": "stderr",
     "output_type": "stream",
     "text": [
      "/usr/local/lib/python3.7/dist-packages/tensorflow/python/keras/engine/sequential.py:450: UserWarning: `model.predict_classes()` is deprecated and will be removed after 2021-01-01. Please use instead:* `np.argmax(model.predict(x), axis=-1)`,   if your model does multi-class classification   (e.g. if it uses a `softmax` last-layer activation).* `(model.predict(x) > 0.5).astype(\"int32\")`,   if your model does binary classification   (e.g. if it uses a `sigmoid` last-layer activation).\n",
      "  warnings.warn('`model.predict_classes()` is deprecated and '\n"
     ]
    },
    {
     "data": {
      "text/plain": [
       "array([[1]], dtype=int32)"
      ]
     },
     "execution_count": 65,
     "metadata": {
      "tags": []
     },
     "output_type": "execute_result"
    }
   ],
   "source": [
    "# testing index 4\n",
    "# expected 1 and got 1\n",
    "prediction=model.predict_classes(sc.transform([[1,\t0,\t0\t,0,\t2\t,1,\t0\t,0,\t0\t,0,\t0,\t0,\t0,\t1\t,70.7,\t151.65\t,\t0,\t1,\t0,\t1,\t0,\t0,\t0,\t0,\t1,\t0]]))\n",
    "prediction"
   ]
  },
  {
   "cell_type": "code",
   "execution_count": 66,
   "metadata": {
    "colab": {
     "base_uri": "https://localhost:8080/"
    },
    "id": "FuRxAQO2O1xU",
    "outputId": "68c6735b-70fd-4c23-d19b-2bffe8bd609d"
   },
   "outputs": [
    {
     "data": {
      "text/plain": [
       "[[1]]"
      ]
     },
     "execution_count": 66,
     "metadata": {
      "tags": []
     },
     "output_type": "execute_result"
    }
   ],
   "source": [
    "str_pred=prediction.tolist()\n",
    "str_pred"
   ]
  },
  {
   "cell_type": "code",
   "execution_count": 68,
   "metadata": {
    "colab": {
     "base_uri": "https://localhost:8080/"
    },
    "id": "wmV-hjeaO9se",
    "outputId": "189d1a49-79df-4242-9be7-499bd444a5df"
   },
   "outputs": [
    {
     "data": {
      "text/plain": [
       "True"
      ]
     },
     "execution_count": 68,
     "metadata": {
      "tags": []
     },
     "output_type": "execute_result"
    }
   ],
   "source": [
    "str_pred==[[1]]"
   ]
  }
 ],
 "metadata": {
  "accelerator": "GPU",
  "colab": {
   "collapsed_sections": [],
   "name": "Copy of Telco_Customer_Churn_Prediction.ipynb",
   "provenance": []
  },
  "kernelspec": {
   "display_name": "Python 3",
   "language": "python",
   "name": "python3"
  },
  "language_info": {
   "codemirror_mode": {
    "name": "ipython",
    "version": 3
   },
   "file_extension": ".py",
   "mimetype": "text/x-python",
   "name": "python",
   "nbconvert_exporter": "python",
   "pygments_lexer": "ipython3",
   "version": "3.8.8"
  }
 },
 "nbformat": 4,
 "nbformat_minor": 1
}
